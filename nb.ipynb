{
 "cells": [
  {
   "cell_type": "code",
   "execution_count": 1,
   "metadata": {},
   "outputs": [
    {
     "ename": "ModuleNotFoundError",
     "evalue": "No module named 'ee'",
     "output_type": "error",
     "traceback": [
      "\u001b[1;31m---------------------------------------------------------------------------\u001b[0m",
      "\u001b[1;31mModuleNotFoundError\u001b[0m                       Traceback (most recent call last)",
      "Cell \u001b[1;32mIn[1], line 1\u001b[0m\n\u001b[1;32m----> 1\u001b[0m \u001b[39mimport\u001b[39;00m \u001b[39mee\u001b[39;00m\n\u001b[0;32m      3\u001b[0m \u001b[39m# Authenticate and initialize the Earth Engine API\u001b[39;00m\n\u001b[0;32m      4\u001b[0m ee\u001b[39m.\u001b[39mAuthenticate()\n",
      "\u001b[1;31mModuleNotFoundError\u001b[0m: No module named 'ee'"
     ]
    }
   ],
   "source": [
    "import ee\n",
    "import folium\n",
    "\n",
    "# Authenticate and initialize the Earth Engine API\n",
    "ee.Authenticate()\n",
    "ee.Initialize()\n",
    "\n",
    "# Define the study area (e.g., Kamloops, BC)\n",
    "study_area = ee.Geometry.Point(-121.597, 50.448)\n",
    "\n",
    "# Load a Landsat image\n",
    "landsat = ee.ImageCollection('LANDSAT/LC08/C01/T1_TOA') \\\n",
    "    .filterBounds(study_area) \\\n",
    "    .filterDate('2022-01-01', '2022-12-31') \\\n",
    "    .sort('CLOUD_COVER') \\\n",
    "    .first()\n",
    "\n",
    "# Visualize the Landsat image\n",
    "landsat_vis_params = {'bands': ['B4', 'B3', 'B2'], 'min': 0, 'max': 0.3}\n",
    "landsat_map = folium.Map(location=[50.448, -121.597], zoom_start=10)\n",
    "landsat_map.add_ee_layer(landsat, landsat_vis_params, 'Landsat Image')\n",
    "display(landsat_map)\n",
    "\n",
    "# Perform a simple analysis (calculate NDVI)\n",
    "def calculate_ndvi(image):\n",
    "    ndvi = image.normalizedDifference(['B5', 'B4']).rename('NDVI')\n",
    "    return image.addBands(ndvi)\n",
    "\n",
    "landsat_with_ndvi = calculate_ndvi(landsat)\n",
    "\n",
    "# Visualize NDVI\n",
    "ndvi_params = {'min': -1, 'max': 1, 'palette': ['blue', 'white', 'green']}\n",
    "ndvi_map = folium.Map(location=[50.448, -121.597], zoom_start=10)\n",
    "ndvi_map.add_ee_layer(landsat_with_ndvi.select('NDVI'), ndvi_params, 'NDVI')\n",
    "display(ndvi_map)\n"
   ]
  }
 ],
 "metadata": {
  "kernelspec": {
   "display_name": "ee",
   "language": "python",
   "name": "python3"
  },
  "language_info": {
   "codemirror_mode": {
    "name": "ipython",
    "version": 3
   },
   "file_extension": ".py",
   "mimetype": "text/x-python",
   "name": "python",
   "nbconvert_exporter": "python",
   "pygments_lexer": "ipython3",
   "version": "3.11.4"
  },
  "orig_nbformat": 4
 },
 "nbformat": 4,
 "nbformat_minor": 2
}
